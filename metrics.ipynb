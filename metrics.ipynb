{
  "nbformat": 4,
  "nbformat_minor": 0,
  "metadata": {
    "colab": {
      "provenance": [],
      "toc_visible": true,
      "collapsed_sections": [
        "l-8o6Xtr8Ci_"
      ]
    },
    "kernelspec": {
      "name": "python3",
      "display_name": "Python 3"
    },
    "language_info": {
      "name": "python"
    }
  },
  "cells": [
    {
      "cell_type": "markdown",
      "source": [
        "# Метрики"
      ],
      "metadata": {
        "id": "YhKeXtwY6MhH"
      }
    },
    {
      "cell_type": "markdown",
      "source": [
        "## Метрики для задач регрессии"
      ],
      "metadata": {
        "id": "OmdBVr5F6TlW"
      }
    },
    {
      "cell_type": "markdown",
      "source": [
        "### MSE (Среднеквадратическая ошибка)\n",
        "**Что показывает и когда нужна**\n",
        "\n",
        "MSE и RMSE используются сообща для оценки ошибки в прогнозах.\n",
        "\n",
        "**Достоинство**\n",
        "\n",
        "Каждая ошибка имеет свой вес, и большие расхождения более заметны за счет возведения в степень. Способ ее расчета позволяет усиливать штраф за большие расхождения в прогнозах.\n",
        "\n",
        "**Недостаток**\n",
        "\n",
        "Менее удобна для понимания, потому что измеряется в квадратных единицах.\n",
        "Не поможет, если нужно сравнить две модели, предсказывающие одно и то же по разным признакам.\n",
        "\n",
        "**Расчёт**\n",
        "\n",
        "Необходимо посчитать разницу между прогнозом и реальным значением для каждого объекта, а затем возвести каждую в квадрат, сложить результаты и разделить на число объектов.\n",
        "\n",
        "$MSE = \\frac{1}{l}\\sum_{i=1}^{l}(a(x_{i})-y_{i})^{2}$,\n",
        "\n",
        "$a(x_{i})$ - предсказание модели на объекте $x_{i}$​, $y_{i}$ - правильный ответ, $l$ - число объектов в выборке, на которой вычисляется значение метрики.\n"
      ],
      "metadata": {
        "id": "9vr9M8bK9YCm"
      }
    },
    {
      "cell_type": "markdown",
      "source": [
        "### RMSE\n",
        "**Что показывает и когда нужна**\n",
        "\n",
        "MSE и RMSE используются сообща для оценки ошибки в прогнозах.\n",
        "\n",
        "**Достоинство**\n",
        "Имеет те же преимущества, что и МSЕ, но более удобна для понимания — погрешность измеряется в тех же единицах, что и значения целевой\n",
        "\n",
        "**Недостаток**\n",
        "\n",
        "Не поможет, если нужно сравнить две модели, предсказывающие одно и то же по разным признакам.\n",
        "\n",
        "**Расчёт**\n",
        "\n",
        "Необходимо посчитать разницу между прогнозом и реальным значением для каждого объекта, возвести каждую в квадрат, сложить результаты, поделить на число объектов, а затем взять корень из получившегося среднего значения.\n",
        "\n",
        "$RMSE = \\sqrt{\\frac{1}{l}\\sum_{i=1}^{l}(a(x_{i})-y_{i})^{2}}$\n",
        "\n",
        "$a(x_{i})$ - предсказание модели на объекте $x_{i}$​, $y_{i}$ - правильный ответ, $l$ - число объектов в выборке, на которой вычисляется значение метрики."
      ],
      "metadata": {
        "id": "hzor65wM9Y3e"
      }
    },
    {
      "cell_type": "markdown",
      "source": [
        "### MAE (Средняя абсолютная ошибка)\n",
        "**Что показывает и когда нужна**\n",
        "\n",
        "Помогает оценить абсолютную ошибку — то, насколько число в прогнозах разошлось с реальным числом.\n",
        "\n",
        "**Достоинство**\n",
        "\n",
        "Удобно трактовать - погрешность измеряется в тех же единицах, что и значения целевой переменной.\n",
        "\n",
        "**Недостаток**\n",
        "\n",
        "Одинаково оштрафует алгоритм за расхождение — например, в 2 и 200 единиц. Не поможет, если нужно будет сравнить две модели, предсказывающие одно и то же по разным признакам.\n",
        "\n",
        "**Расчёт**\n",
        "\n",
        "Необходимо посчитать модуль разницы между прогнозом и реальным значением для всех объектов, а затем поделить разницу на число объектов.\n",
        "\n",
        "$MAE = \\frac{1}{l}\\sum_{i=1}^{l}|a(x_{i})-y_{i}|$"
      ],
      "metadata": {
        "id": "9xMQq7y4646f"
      }
    },
    {
      "cell_type": "markdown",
      "source": [
        "### MAPE (Средняя абсолютная ошибка в процентах)\n",
        "**Что показывает и когда нужна**\n",
        "\n",
        "Позволяет абстрагироваться от конкретных цифр и быстро понять, на сколько процентов разошлись прогноз и результат.\n",
        "\n",
        "**Достоинство**\n",
        "\n",
        "Легко интерпретировать и можно вылавливать ошибки разного веса там, где МSЕ и МАЕ показали бы одинаковое расхождение для двух разных случаев.\n",
        "\n",
        "**Недостаток**\n",
        "\n",
        "Не подходит для задач, где нужно работать с реальными единицами измерения: рублями, штуками, минутами и прочим. Метрика несимметрична, т.е. метрика меньше штрафует занижение прогноза, чем перепрогноз.\n",
        "\n",
        "**Расчёт**\n",
        "\n",
        "Необходимо посчитать разницу между прогнозом и реальным значением, а затем поделить ее на реальное значение, получив среднее в виде %.\n",
        "\n",
        "$MAPE = \\frac{1}{l}\\sum_{i=1}^{l}\\frac{|y_i - a(x_i)|}{|y_i|}$"
      ],
      "metadata": {
        "id": "sbGmjpwc9Z-m"
      }
    },
    {
      "cell_type": "markdown",
      "source": [
        "### SMAPE (Симметричная средняя абсолютная ошибка в процентах)\n",
        "\n",
        "SMAPE (symmetric mean average percentage error) пытается сделать прогноз симметричным, но этого не происходит, однако формула для оценки качества становится сложнее и менее интерпретируемой. Поэтому на практике эту метрику используют нечасто.\n",
        "\n",
        "$SMAPE = \\frac{1}{l}\\sum_{i=1}^{l}\\frac{|y_i - a(x_i)|}{(|y_i|+|a(x_i)|)/2}$"
      ],
      "metadata": {
        "id": "WTOv41m7xY7J"
      }
    },
    {
      "cell_type": "markdown",
      "source": [
        "### $R^2$ (Коэффициент детерминации)\n",
        "**Что показывает и когда нужна**\n",
        "\n",
        "Помогает понять, какую долю разнообразия данных модель смогла объяснить.\n",
        "\n",
        "**Достоинство**\n",
        "Можно сравнивать модели, обученные на разных данных.\n",
        "С ней легко оценить качество модели (если результат прогнозов от 0.5 и выше - все хорошо).\n",
        "\n",
        "**Недостаток**\n",
        "\n",
        "Чувствительна к добавлению новых данных.\n",
        "\n",
        "**Расчёт**\n",
        "\n",
        "$R^{2} = 1-\\frac{\\sum_{i=1}^{l}(a(x_{i})-y_{i})^{2}}{\\sum_{i=1}^{l}(y_{i}-\\overline{y})^{2}}$\n",
        "\n",
        "Заметим, что в числителе вычитаемой дроби стоит MSE (без деления на $l$), а в знаменателе - дисперсия целевой переменной (без деления на $l$). То есть эту метрику можно интерпретировать как долю дисперсии целевой переменной, объясняемую моделью. \n",
        "\n",
        "* Для идеальной модели (MSE=0) $R^2=1$\n",
        "* Чем хуже модель (чем больше MSE), тем меньше $R^2$\n",
        "\n",
        "$R^2$ может быть и отрицательным - в случае, если модель предсказывает хуже, чем $a(x)=\\overline{y}$, то есть чем модель, предсказывающая средний ответ на всех объектах. То есть отрицательный $R^2$ говорит о том, что модель очень плохо решает задачу (или сильно переобучена)."
      ],
      "metadata": {
        "id": "1rXH8gN79a3G"
      }
    },
    {
      "cell_type": "markdown",
      "source": [
        "## Метрики для задач классификации"
      ],
      "metadata": {
        "id": "64QE-8R66Vwe"
      }
    },
    {
      "cell_type": "markdown",
      "source": [
        "### Матрица ошибок (confusion matrix)"
      ],
      "metadata": {
        "id": "pXxi74Y_5z9C"
      }
    },
    {
      "cell_type": "markdown",
      "source": [
        "Допустим, что у нас есть два класса и алгоритм, предсказывающий принадлежность каждого объекта одному из классов, тогда матрица ошибок классификации будет выглядеть следующим образом:"
      ],
      "metadata": {
        "id": "KyY5LuQD6iHx"
      }
    },
    {
      "cell_type": "markdown",
      "source": [
        " _ | **Истинный класс** $y = 1$ | **Истинный класс** $y = 0$\n",
        " ---|---|---\n",
        " **Прогнозируемый класс** $y_{pred} = 1$ | True Positive (TP) Верно предсказан класс 1| False Positive (FP) Ошибочно предсказан класс 1\n",
        " **Прогнозируемый класс** $y_{pred} = 0$ | False Negative (FN) Ошибочно предсказан класс 0 | True Negative (TN) Верно предсказан класс 0\n",
        "\n"
      ],
      "metadata": {
        "id": "6oEelDA66obA"
      }
    },
    {
      "cell_type": "markdown",
      "source": [
        "#### *подготовка данных для примера*"
      ],
      "metadata": {
        "id": "l-8o6Xtr8Ci_"
      }
    },
    {
      "cell_type": "code",
      "execution_count": null,
      "metadata": {
        "id": "DvGN-o8Y6LSY",
        "colab": {
          "base_uri": "https://localhost:8080/"
        },
        "outputId": "4cd6f327-ffa2-43d0-ab53-357b708ae1b1"
      },
      "outputs": [
        {
          "output_type": "stream",
          "name": "stderr",
          "text": [
            "/usr/local/lib/python3.10/dist-packages/sklearn/linear_model/_logistic.py:458: ConvergenceWarning: lbfgs failed to converge (status=1):\n",
            "STOP: TOTAL NO. of ITERATIONS REACHED LIMIT.\n",
            "\n",
            "Increase the number of iterations (max_iter) or scale the data as shown in:\n",
            "    https://scikit-learn.org/stable/modules/preprocessing.html\n",
            "Please also refer to the documentation for alternative solver options:\n",
            "    https://scikit-learn.org/stable/modules/linear_model.html#logistic-regression\n",
            "  n_iter_i = _check_optimize_result(\n"
          ]
        }
      ],
      "source": [
        "import numpy as np\n",
        "import pandas as pd\n",
        "import matplotlib.pyplot as plt\n",
        "from matplotlib.pylab import rc, plot\n",
        "import seaborn as sns\n",
        "import itertools\n",
        "\n",
        "from sklearn.linear_model import LogisticRegression\n",
        "from sklearn.metrics import precision_recall_curve, classification_report\n",
        "from sklearn.model_selection import train_test_split\n",
        "\n",
        "from sklearn.datasets import load_breast_cancer\n",
        "\n",
        "X, y = load_breast_cancer(as_frame=True).data, load_breast_cancer(as_frame=True).target\n",
        "X_train, X_test, y_train, y_test = train_test_split(X, y, stratify=y,  test_size=0.33, random_state=42)\n",
        "lr = LogisticRegression(random_state=42)\n",
        "lr.fit(X_train, y_train)\n",
        "\n",
        "# Воспользуемся функцией построения матрицы ошибок из документации sklearn\n",
        "from sklearn.metrics import confusion_matrix\n",
        "def plot_confusion_matrix(cm, classes,\n",
        "                          normalize=False,\n",
        "                          title='Confusion matrix',\n",
        "                          cmap=plt.cm.Blues):\n",
        "    \"\"\"\n",
        "    This function prints and plots the confusion matrix.\n",
        "    Normalization can be applied by setting `normalize=True`.\n",
        "    \"\"\"\n",
        "    plt.imshow(cm, interpolation='nearest', cmap=cmap)\n",
        "    plt.title(title)\n",
        "    plt.colorbar()\n",
        "    tick_marks = np.arange(len(classes))\n",
        "    plt.xticks(tick_marks, classes, rotation=45)\n",
        "    plt.yticks(tick_marks, classes)\n",
        "\n",
        "    if normalize:\n",
        "        cm = cm.astype('float') / cm.sum(axis=1)[:, np.newaxis]\n",
        "        print(\"Normalized confusion matrix\")\n",
        "    else:\n",
        "        print('Confusion matrix, without normalization')\n",
        "\n",
        "    print(cm)\n",
        "\n",
        "    thresh = cm.max() / 2.\n",
        "    for i, j in itertools.product(range(cm.shape[0]), range(cm.shape[1])):\n",
        "        plt.text(j, i, cm[i, j],\n",
        "                 horizontalalignment=\"center\",\n",
        "                 color=\"white\" if cm[i, j] > thresh else \"black\")\n",
        "\n",
        "    plt.tight_layout()\n",
        "    plt.ylabel('Истинные значения')\n",
        "    plt.xlabel('Предсказанные значения')\n",
        "\n",
        "font = {'size' : 15}\n",
        "\n",
        "plt.rc('font', **font)\n",
        "\n",
        "cnf_matrix = confusion_matrix(y_test, lr.predict(X_test))"
      ]
    },
    {
      "cell_type": "code",
      "source": [],
      "metadata": {
        "id": "JFps6IrEJ6wj"
      },
      "execution_count": null,
      "outputs": []
    },
    {
      "cell_type": "markdown",
      "source": [
        "#### _"
      ],
      "metadata": {
        "id": "w50akESsJ80h"
      }
    },
    {
      "cell_type": "code",
      "source": [
        "# Визуализация\n",
        "plt.figure(figsize=(8, 6))\n",
        "plot_confusion_matrix(cnf_matrix, classes=[0, 1],\n",
        "                      title='Confusion matrix')\n",
        "plt.savefig(\"conf_matrix.png\")\n",
        "plt.show()"
      ],
      "metadata": {
        "colab": {
          "base_uri": "https://localhost:8080/",
          "height": 669
        },
        "id": "0BepTE2OKAEO",
        "outputId": "7e39261d-611f-4459-80c0-40cc23fe95c0"
      },
      "execution_count": null,
      "outputs": [
        {
          "output_type": "stream",
          "name": "stdout",
          "text": [
            "Confusion matrix, without normalization\n",
            "[[ 62   8]\n",
            " [  2 116]]\n"
          ]
        },
        {
          "output_type": "display_data",
          "data": {
            "text/plain": [
              "<Figure size 800x600 with 2 Axes>"
            ],
            "image/png": "[encoded data removed]"
          },
          "metadata": {}
        }
      ]
    },
    {
      "cell_type": "markdown",
      "source": [
        "### Accuracy"
      ],
      "metadata": {
        "id": "RvbSOLkZONun"
      }
    },
    {
      "cell_type": "markdown",
      "source": [
        "Accuracy - это метрика, которая характеризует **качество модели, агрегированное по всем классам**. \n",
        "\n",
        "Это полезно, когда классы для нас имеют одинаковое значение. В случае, если это не так, accuracy может быть обманчивой."
      ],
      "metadata": {
        "id": "gZxqZl6sOTTL"
      }
    },
    {
      "cell_type": "markdown",
      "source": [
        "$Accuracy = \\frac{TP+TN}{TP+TN+FP+FN}$"
      ],
      "metadata": {
        "id": "yIig15uFOVzp"
      }
    },
    {
      "cell_type": "markdown",
      "source": [
        "### Precision (точность)"
      ],
      "metadata": {
        "id": "xjnXsWvQO5_Y"
      }
    },
    {
      "cell_type": "markdown",
      "source": [
        "Precision (точность) подходит, если мы рассматриваем долю **правильно предсказанных положительных объектов** среди ВСЕХ объектов, ПРЕДСКАЗАННЫХ положительным классом."
      ],
      "metadata": {
        "id": "B45pqb8ZPQVS"
      }
    },
    {
      "cell_type": "markdown",
      "source": [
        "$Precision = \\frac{TP}{TP+FP}$"
      ],
      "metadata": {
        "id": "LtffuqiePkey"
      }
    },
    {
      "cell_type": "markdown",
      "source": [
        "### Recall (полнота)"
      ],
      "metadata": {
        "id": "n-l8t3sUQhKB"
      }
    },
    {
      "cell_type": "markdown",
      "source": [
        "Recall (полнота) подходит, если мы рассматриваем долю **правильно предсказанных положительных объектов** среди ВСЕХ объектов ПОЛОЖИТЕЛЬНОГО класса, то мы получим метрику, которая называется полнотой (recall)"
      ],
      "metadata": {
        "id": "rXpJg0bfQfq5"
      }
    },
    {
      "cell_type": "markdown",
      "source": [
        "$Recall = \\frac{TP}{TP+FN}$"
      ],
      "metadata": {
        "id": "b4B7r4mERYhv"
      }
    },
    {
      "cell_type": "markdown",
      "source": [
        "### F1-мера"
      ],
      "metadata": {
        "id": "rzH7Ww03UNBo"
      }
    },
    {
      "cell_type": "markdown",
      "source": [
        "Cреднее гармоническое Precision-Recall"
      ],
      "metadata": {
        "id": "lTAE8q-3UZNE"
      }
    },
    {
      "cell_type": "markdown",
      "source": [
        "$F1 = 2*\\frac{Recall * Precision}{Recall+Precision}=\\frac{TP}{TP+\\frac{FP+FN}{2}}$"
      ],
      "metadata": {
        "id": "Q8EVip9qUf2Z"
      }
    },
    {
      "cell_type": "markdown",
      "source": [
        "### ROC-AUC"
      ],
      "metadata": {
        "id": "z-G41Y2-ZqOS"
      }
    },
    {
      "cell_type": "markdown",
      "source": [
        "True Positive Rate (TPR) показывает, какой процент среди всех positive верно предсказан моделью.\n",
        "\n",
        "TPR = TP / (TP + FN).\n",
        "\n",
        "False Positive Rate (FPR): какой процент среди всех negative неверно предсказан моделью.\n",
        "\n",
        "FPR = FP / (FP + TN).\n",
        "\n",
        " Кривая в осях TPR/FPR, которая получается при варьировании порога, исторически называется ROC-кривой (receiver operating characteristics curve, сокращённо ROC curve)"
      ],
      "metadata": {
        "id": "VvKET4mtZt-n"
      }
    },
    {
      "cell_type": "markdown",
      "source": [
        "**Чем лучше классификатор разделяет два класса, тем больше площадь (area under curve) под ROC-кривой – и мы можем использовать её в качестве метрики.** "
      ],
      "metadata": {
        "id": "F51ccVy1bXub"
      }
    },
    {
      "cell_type": "markdown",
      "source": [
        "[Для лучшего понимания ROC-AUC](https://yastatic.net/s3/academy/ml/roc_auc/roc.html)"
      ],
      "metadata": {
        "id": "w70Trlp6bGvi"
      }
    },
    {
      "cell_type": "code",
      "source": [
        "from sklearn.metrics import roc_curve, auc\n",
        "from sklearn.metrics import roc_auc_score\n",
        "\n",
        "lr_probs = lr.predict_proba(X_test)\n",
        "# сохраняем вероятности только для положительного исхода\n",
        "lr_probs = lr_probs[:, 1]\n",
        "# рассчитываем ROC AUC\n",
        "lr_auc = roc_auc_score(y_test, lr_probs)\n",
        "print('LogisticRegression: ROC AUC=%.3f' % (lr_auc))\n",
        "# рассчитываем roc-кривую\n",
        "fpr, tpr, treshold = roc_curve(y_test, lr_probs)\n",
        "roc_auc = auc(fpr, tpr)\n",
        "# строим график\n",
        "plt.plot(fpr, tpr, color='darkorange',\n",
        "         label='ROC кривая (area = %0.2f)' % roc_auc)\n",
        "plt.plot([0, 1], [0, 1], color='navy', linestyle='--')\n",
        "plt.xlim([0.0, 1.0])\n",
        "plt.ylim([0.0, 1.05])\n",
        "plt.xlabel('False Positive Rate')\n",
        "plt.ylabel('True Positive Rate')\n",
        "plt.title('Пример ROC-кривой')\n",
        "plt.legend(loc=\"lower right\")\n",
        "plt.show()"
      ],
      "metadata": {
        "colab": {
          "base_uri": "https://localhost:8080/",
          "height": 516
        },
        "id": "aXx2u6L0OyzB",
        "outputId": "e24c11f5-6f8a-43dc-e284-ebb6d0b5c9dd"
      },
      "execution_count": null,
      "outputs": [
        {
          "output_type": "stream",
          "name": "stdout",
          "text": [
            "LogisticRegression: ROC AUC=0.979\n"
          ]
        },
        {
          "output_type": "display_data",
          "data": {
            "text/plain": [
              "<Figure size 640x480 with 1 Axes>"
            ],
            "image/png": "[encoded data removed]"
          },
          "metadata": {}
        }
      ]
    }
  ]
}